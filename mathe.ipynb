{
 "cells": [
  {
   "cell_type": "code",
   "execution_count": 90,
   "outputs": [
    {
     "name": "stderr",
     "output_type": "stream",
     "text": [
      "Matplotlib is building the font cache; this may take a moment.\n"
     ]
    }
   ],
   "source": [
    "import math as ma\n",
    "from random import randint\n",
    "from timeit import default_timer as timer\n",
    "import matplotlib.pyplot as plt\n"
   ],
   "metadata": {
    "collapsed": false,
    "ExecuteTime": {
     "end_time": "2024-05-28T12:24:31.990698Z",
     "start_time": "2024-05-28T12:24:20.763140Z"
    }
   },
   "id": "initial_id"
  },
  {
   "cell_type": "markdown",
   "source": [
    "### Funktio zum berechen des Typs der Matrix und checken ob es sich um eine quadratische Matrix handelt"
   ],
   "metadata": {
    "collapsed": false
   },
   "id": "a0bfa58d0a2d010"
  },
  {
   "cell_type": "code",
   "execution_count": 46,
   "outputs": [],
   "source": [
    "def calc_matrix_type(matrix):\n",
    "    type = {\"row\": 0, \"column\": 0}\n",
    "    if len(matrix) == 0:\n",
    "        return type\n",
    "    type[\"row\"] = len(matrix)\n",
    "    type[\"column\"] = len(matrix[0])\n",
    "    return type"
   ],
   "metadata": {
    "collapsed": false,
    "ExecuteTime": {
     "end_time": "2024-05-28T12:00:46.453416Z",
     "start_time": "2024-05-28T12:00:46.432063Z"
    }
   },
   "id": "a93fe04e487b339f"
  },
  {
   "cell_type": "code",
   "execution_count": 47,
   "outputs": [],
   "source": [
    "def is_square_matrix(matrix):\n",
    "    type = calc_matrix_type(matrix)\n",
    "    return type[\"row\"] == type[\"column\"]"
   ],
   "metadata": {
    "collapsed": false,
    "ExecuteTime": {
     "end_time": "2024-05-28T12:00:46.453660Z",
     "start_time": "2024-05-28T12:00:46.435039Z"
    }
   },
   "id": "d14657793a152e72"
  },
  {
   "cell_type": "code",
   "execution_count": 48,
   "outputs": [],
   "source": [
    "def is_diagonal_matrix(matrix):\n",
    "    if not is_square_matrix(matrix):\n",
    "        return False\n",
    "    for i in range(len(matrix)):\n",
    "        for j in range(len(matrix[i])):\n",
    "            if i != j and matrix[i][j] != 0:\n",
    "                return False\n",
    "    return True"
   ],
   "metadata": {
    "collapsed": false,
    "ExecuteTime": {
     "end_time": "2024-05-28T12:00:46.453735Z",
     "start_time": "2024-05-28T12:00:46.438306Z"
    }
   },
   "id": "27e9971a3a737344"
  },
  {
   "cell_type": "code",
   "execution_count": 49,
   "outputs": [],
   "source": [
    "def is_identity_matrix(matrix):\n",
    "    if not is_diagonal_matrix(matrix):\n",
    "        return False\n",
    "    for i in range(len(matrix)):\n",
    "        if matrix[i][i] != 1:\n",
    "            return False\n",
    "    return True"
   ],
   "metadata": {
    "collapsed": false,
    "ExecuteTime": {
     "end_time": "2024-05-28T12:00:46.479168Z",
     "start_time": "2024-05-28T12:00:46.440650Z"
    }
   },
   "id": "7a75012eb5c02f62"
  },
  {
   "cell_type": "code",
   "execution_count": 69,
   "outputs": [],
   "source": [
    "def calc_determinant(matrix):\n",
    "    if not is_square_matrix(matrix):\n",
    "        return None\n",
    "    if len(matrix) == 1:\n",
    "        return matrix[0][0]\n",
    "    if len(matrix) == 2:\n",
    "        return matrix[0][0] * matrix[1][1] - matrix[0][1] * matrix[1][0]\n",
    "    det = 0\n",
    "    for i in range(len(matrix)):\n",
    "        det += matrix[0][i] * ma.pow(-1, i) * calc_determinant([row[:i] + row[i+1:] for row in matrix[1:]])\n",
    "    return det"
   ],
   "metadata": {
    "collapsed": false,
    "ExecuteTime": {
     "end_time": "2024-05-28T12:09:28.413108Z",
     "start_time": "2024-05-28T12:09:28.410193Z"
    }
   },
   "id": "c7cb1e09509b6b7d"
  },
  {
   "cell_type": "code",
   "execution_count": 70,
   "outputs": [],
   "source": [
    "def generate_matrix(row, column):\n",
    "    matrix = []\n",
    "    for i in range(row):\n",
    "        matrix.append([])\n",
    "        for j in range(column):\n",
    "            matrix[i].append(0)\n",
    "    return matrix"
   ],
   "metadata": {
    "collapsed": false,
    "ExecuteTime": {
     "end_time": "2024-05-28T12:09:29.773423Z",
     "start_time": "2024-05-28T12:09:29.768093Z"
    }
   },
   "id": "15aa81c591f5ab94"
  },
  {
   "cell_type": "code",
   "execution_count": 71,
   "outputs": [],
   "source": [
    "def fill_matrix(matrix):\n",
    "    for i in range(len(matrix)):\n",
    "        for j in range(len(matrix[i])):\n",
    "            matrix[i][j] = randint(0, 1000)\n",
    "    return matrix"
   ],
   "metadata": {
    "collapsed": false,
    "ExecuteTime": {
     "end_time": "2024-05-28T12:09:30.180392Z",
     "start_time": "2024-05-28T12:09:30.174226Z"
    }
   },
   "id": "7f31ee6e5dee79e2"
  },
  {
   "cell_type": "code",
   "execution_count": 72,
   "outputs": [
    {
     "name": "stdout",
     "output_type": "stream",
     "text": [
      "[[24, 787, 992, 72, 42], [995, 721, 15, 346, 406], [347, 280, 669, 3, 147], [744, 633, 236, 335, 989], [79, 691, 965, 968, 507]]\n",
      "{'row': 5, 'column': 5}\n",
      "280516161765914.0\n"
     ]
    }
   ],
   "source": [
    "matrix = generate_matrix(5, 5)\n",
    "matrix = fill_matrix(matrix)\n",
    "print(matrix)\n",
    "print(calc_matrix_type(matrix))\n",
    "det = calc_determinant(matrix)\n",
    "print(det)"
   ],
   "metadata": {
    "collapsed": false,
    "ExecuteTime": {
     "end_time": "2024-05-28T12:09:31.097256Z",
     "start_time": "2024-05-28T12:09:31.089308Z"
    }
   },
   "id": "4a05994dd7d880a2"
  },
  {
   "cell_type": "code",
   "execution_count": 101,
   "outputs": [],
   "source": [
    "def gen_test():\n",
    "    data = []\n",
    "    for i in range(1, 10):\n",
    "        matrix = generate_matrix(i, i)\n",
    "        matrix = fill_matrix(matrix)\n",
    "        start = timer()\n",
    "        result = calc_determinant(matrix)\n",
    "        end = timer()\n",
    "        time = end - start\n",
    "        data.append([i*i, time])\n",
    "    return data"
   ],
   "metadata": {
    "collapsed": false,
    "ExecuteTime": {
     "end_time": "2024-05-28T12:34:07.336802Z",
     "start_time": "2024-05-28T12:34:07.329627Z"
    }
   },
   "id": "1b8750d4ae39e95b"
  },
  {
   "cell_type": "code",
   "execution_count": 102,
   "outputs": [
    {
     "name": "stdout",
     "output_type": "stream",
     "text": [
      "[[1, 5.549821071326733e-07], [4, 4.875008016824723e-07], [9, 3.388745244592428e-06], [16, 1.4669583179056644e-05], [25, 7.554415846243501e-05], [36, 0.00045190791599452495], [49, 0.003155527859926224], [64, 0.025249548810534178], [81, 0.22797575329896064]]\n"
     ]
    }
   ],
   "source": [
    "data = gen_test()\n",
    "for i in range(100):\n",
    "    new_data = gen_test()\n",
    "    for j in range(len(data)):\n",
    "        data[j][1] += new_data[j][1]\n",
    "for i in range(len(data)):\n",
    "    data[i][1] /= 100\n",
    "print(data)"
   ],
   "metadata": {
    "collapsed": false,
    "ExecuteTime": {
     "end_time": "2024-05-28T12:34:35.204098Z",
     "start_time": "2024-05-28T12:34:09.500790Z"
    }
   },
   "id": "b144c6ff1068b927"
  },
  {
   "cell_type": "code",
   "execution_count": 104,
   "outputs": [
    {
     "data": {
      "text/plain": "<Figure size 640x480 with 1 Axes>",
      "image/png": "[encoded data removed]"
     },
     "metadata": {},
     "output_type": "display_data"
    }
   ],
   "source": [
    "x = [data[i][0] for i in range(len(data))]\n",
    "y = [data[i][1] for i in range(len(data))]\n",
    "\n",
    "plt.plot(x, y)\n",
    "plt.ylabel(\"time in sec\")\n",
    "plt.xlabel(\"number of elements\")\n",
    "plt.show()\n",
    "\n",
    "\n",
    "\n"
   ],
   "metadata": {
    "collapsed": false,
    "ExecuteTime": {
     "end_time": "2024-05-28T12:35:31.558126Z",
     "start_time": "2024-05-28T12:35:31.501827Z"
    }
   },
   "id": "50bed7026bb118b3"
  }
 ],
 "metadata": {
  "kernelspec": {
   "display_name": "Python 3",
   "language": "python",
   "name": "python3"
  },
  "language_info": {
   "codemirror_mode": {
    "name": "ipython",
    "version": 2
   },
   "file_extension": ".py",
   "mimetype": "text/x-python",
   "name": "python",
   "nbconvert_exporter": "python",
   "pygments_lexer": "ipython2",
   "version": "2.7.6"
  }
 },
 "nbformat": 4,
 "nbformat_minor": 5
}
